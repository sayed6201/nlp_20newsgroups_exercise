{
  "nbformat": 4,
  "nbformat_minor": 0,
  "metadata": {
    "colab": {
      "provenance": [],
      "authorship_tag": "ABX9TyPv2i4GeNrdX9CRgxHdMIxb",
      "include_colab_link": true
    },
    "kernelspec": {
      "name": "python3",
      "display_name": "Python 3"
    },
    "language_info": {
      "name": "python"
    }
  },
  "cells": [
    {
      "cell_type": "markdown",
      "metadata": {
        "id": "view-in-github",
        "colab_type": "text"
      },
      "source": [
        "<a href=\"https://colab.research.google.com/github/sayed6201/nlp_20newsgroups_exercise/blob/main/exercise_text_classification.ipynb\" target=\"_parent\"><img src=\"https://colab.research.google.com/assets/colab-badge.svg\" alt=\"Open In Colab\"/></a>"
      ]
    },
    {
      "cell_type": "markdown",
      "source": [
        "# **Imports**"
      ],
      "metadata": {
        "id": "ufaR_se9aDKi"
      }
    },
    {
      "cell_type": "code",
      "execution_count": null,
      "metadata": {
        "id": "JXD_EKWMFWVS"
      },
      "outputs": [],
      "source": [
        "import sklearn as sklearn\n",
        "from sklearn.datasets import fetch_20newsgroups\n",
        "from pprint import pprint\n",
        "from sklearn.feature_extraction.text import CountVectorizer\n",
        "from sklearn.feature_extraction.text import TfidfTransformer\n"
      ]
    },
    {
      "cell_type": "markdown",
      "source": [
        "# **Data Importing**"
      ],
      "metadata": {
        "id": "r2omnHFUaJti"
      }
    },
    {
      "cell_type": "code",
      "source": [
        "newsgroups_train = fetch_20newsgroups(subset='train')\n",
        "newsgroups_test = fetch_20newsgroups(subset='test')"
      ],
      "metadata": {
        "id": "ZDof7HuqGg_7"
      },
      "execution_count": null,
      "outputs": []
    },
    {
      "cell_type": "code",
      "source": [
        "pprint(list(newsgroups_train.target_names))\n",
        "pprint(dir(newsgroups_train))\n",
        "pprint(newsgroups_train.target)\n",
        "\n",
        "pprint(len(newsgroups_train.data))\n",
        "pprint(len(newsgroups_test.data))\n",
        "\n",
        "x_train, y_train = newsgroups_train.data, newsgroups_train.target\n",
        "x_test, y_test = newsgroups_test.data, newsgroups_test.target"
      ],
      "metadata": {
        "colab": {
          "base_uri": "https://localhost:8080/"
        },
        "id": "_rRxvlKWJ7o1",
        "outputId": "55b3f61e-ab0f-45bf-ce0f-82b19369157b"
      },
      "execution_count": null,
      "outputs": [
        {
          "output_type": "stream",
          "name": "stdout",
          "text": [
            "['alt.atheism',\n",
            " 'comp.graphics',\n",
            " 'comp.os.ms-windows.misc',\n",
            " 'comp.sys.ibm.pc.hardware',\n",
            " 'comp.sys.mac.hardware',\n",
            " 'comp.windows.x',\n",
            " 'misc.forsale',\n",
            " 'rec.autos',\n",
            " 'rec.motorcycles',\n",
            " 'rec.sport.baseball',\n",
            " 'rec.sport.hockey',\n",
            " 'sci.crypt',\n",
            " 'sci.electronics',\n",
            " 'sci.med',\n",
            " 'sci.space',\n",
            " 'soc.religion.christian',\n",
            " 'talk.politics.guns',\n",
            " 'talk.politics.mideast',\n",
            " 'talk.politics.misc',\n",
            " 'talk.religion.misc']\n",
            "['DESCR', 'data', 'filenames', 'target', 'target_names']\n",
            "array([7, 4, 4, ..., 3, 1, 8])\n",
            "11314\n",
            "7532\n"
          ]
        }
      ]
    },
    {
      "cell_type": "code",
      "source": [
        "x_train[0]"
      ],
      "metadata": {
        "colab": {
          "base_uri": "https://localhost:8080/",
          "height": 122
        },
        "id": "MFoBI-u0ky5e",
        "outputId": "1e3bcc61-7844-4cce-ac9d-5e447e2c80fb"
      },
      "execution_count": null,
      "outputs": [
        {
          "output_type": "execute_result",
          "data": {
            "text/plain": [
              "\"From: lerxst@wam.umd.edu (where's my thing)\\nSubject: WHAT car is this!?\\nNntp-Posting-Host: rac3.wam.umd.edu\\nOrganization: University of Maryland, College Park\\nLines: 15\\n\\n I was wondering if anyone out there could enlighten me on this car I saw\\nthe other day. It was a 2-door sports car, looked to be from the late 60s/\\nearly 70s. It was called a Bricklin. The doors were really small. In addition,\\nthe front bumper was separate from the rest of the body. This is \\nall I know. If anyone can tellme a model name, engine specs, years\\nof production, where this car is made, history, or whatever info you\\nhave on this funky looking car, please e-mail.\\n\\nThanks,\\n- IL\\n   ---- brought to you by your neighborhood Lerxst ----\\n\\n\\n\\n\\n\""
            ],
            "application/vnd.google.colaboratory.intrinsic+json": {
              "type": "string"
            }
          },
          "metadata": {},
          "execution_count": 57
        }
      ]
    },
    {
      "cell_type": "markdown",
      "source": [
        "# **Data Preprocessing**\n"
      ],
      "metadata": {
        "id": "r1iVF5sjZsiU"
      }
    },
    {
      "cell_type": "code",
      "source": [
        "countVect = CountVectorizer()\n",
        "x_train_countV = countVect.fit_transform(x_train)\n",
        "print(f\"Shape of Term Frequency Matrix: {x_train_countV.shape}\")\n",
        "\n",
        "tfidfTrans = TfidfTransformer()\n",
        "x_train_tfidf = tfidfTrans.fit_transform(x_train_countV)\n",
        "print(f\"Shape of TFIDF Matrix: {x_train_tfidf.shape}\")"
      ],
      "metadata": {
        "colab": {
          "base_uri": "https://localhost:8080/"
        },
        "id": "WL_7ZB44Z7gG",
        "outputId": "d904242a-0598-4b83-faed-e75354f6bae8"
      },
      "execution_count": null,
      "outputs": [
        {
          "output_type": "stream",
          "name": "stdout",
          "text": [
            "Shape of Term Frequency Matrix: (11314, 130107)\n",
            "Shape of TFIDF Matrix: (11314, 130107)\n"
          ]
        }
      ]
    },
    {
      "cell_type": "code",
      "source": [],
      "metadata": {
        "id": "xckFttrHk8bW"
      },
      "execution_count": null,
      "outputs": []
    }
  ]
}